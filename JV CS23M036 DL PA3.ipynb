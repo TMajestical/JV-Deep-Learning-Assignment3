{
 "cells": [
  {
   "cell_type": "code",
   "execution_count": 1,
   "id": "1f0cd007-c07d-41ae-a7d1-e8a396936a4b",
   "metadata": {},
   "outputs": [],
   "source": [
    "#JV"
   ]
  },
  {
   "cell_type": "code",
   "execution_count": 2,
   "id": "75927828-0e72-4da3-a840-98d46c1e6e37",
   "metadata": {},
   "outputs": [],
   "source": [
    "import numpy as np\n",
    "\n",
    "import pandas as pd\n",
    "\n",
    "import torch\n",
    "import torch.nn as nn\n",
    "from torch import optim\n",
    "import torch.nn.functional as F\n",
    "from torch.utils.data import Dataset,TensorDataset, DataLoader, RandomSampler\n",
    "from torch.nn.utils.rnn import pad_sequence\n",
    "import random\n",
    "\n",
    "import os\n",
    "import gc\n",
    "import time\n",
    "import math\n",
    "\n",
    "import matplotlib.pyplot as plt\n",
    "#plt.switch_backend('agg')\n",
    "import matplotlib.ticker as ticker\n",
    "import numpy as np\n",
    "\n",
    "from tqdm.notebook import tqdm"
   ]
  },
  {
   "cell_type": "code",
   "execution_count": 3,
   "id": "96d84851-1726-4bfb-955d-209cdc80bc97",
   "metadata": {},
   "outputs": [],
   "source": [
    "seed = 23\n",
    "\n",
    "random.seed(seed)\n",
    "np.random.seed(seed)\n",
    "torch.manual_seed(seed)\n",
    "torch.cuda.manual_seed(seed)\n",
    "torch.backends.cudnn.deterministic = True"
   ]
  },
  {
   "cell_type": "code",
   "execution_count": 4,
   "id": "094edcd3-d8da-4e5b-b48e-413e23060dcf",
   "metadata": {},
   "outputs": [],
   "source": [
    "class LanguageProcessor:\n",
    "\n",
    "    def __init__(self,language_directory,target_lang_name,mode=\"train\",meta_tokens=True):\n",
    "\n",
    "        \"\"\"\n",
    "        Default Constructor for this class.\n",
    "\n",
    "        Params:\n",
    "\n",
    "            language_directory : ex : \"aksharantar_sampled/tel/\"\n",
    "            mode : \"train\" or \"test\" or \"valid\", accordingly the appropriate dataset is read.\n",
    "            meta_tokens : If true creates the first three tokens of the dictionary as <start>,<end>,<pad>.\n",
    "            \n",
    "        \"\"\"\n",
    "\n",
    "        self.meta_tokens = meta_tokens ## boolean variable, if 1, then <start>,<end> and <pad> tokens are cosidered in the vocab.\n",
    "        self.language_directory = language_directory\n",
    "        self.target_lang_name = target_lang\n",
    "        self.mode = mode ## accordingly helps to read and generate the appropriate dataset.\n",
    "    \n",
    "        self.source_lang = 0\n",
    "        self.target_lang = 1\n",
    "\n",
    "        self.source_max_len = self.find_max_len(self.source_lang)\n",
    "        self.target_max_len = self.find_max_len(self.target_lang)\n",
    "\n",
    "        self.max_len = max(self.source_max_len,self.target_max_len)+1 ##accomodating End token also, irrespective of whether it is used.\n",
    "\n",
    "        self.source_char2id,self.source_id2char = self.build_char_vocab(self.source_lang,self.source_max_len)\n",
    "        self.target_char2id,self.target_id2char = self.build_char_vocab(self.target_lang,self.target_max_len)\n",
    "\n",
    "\n",
    "    def find_max_len(self,lang):\n",
    "\n",
    "        \"\"\"\n",
    "        Method to find the maximum length of a word across train/test and validation data.\n",
    "\n",
    "        This would help in padding, the embedding accordingly.\n",
    "\n",
    "        Params:\n",
    "\n",
    "            lang : 0/1 (source/target) language for which the length of the longest word must be found.\n",
    "        \n",
    "        \"\"\"\n",
    "\n",
    "        train_df = pd.read_csv(self.language_directory+self.target_lang_name+\"_train.csv\",header=None)\n",
    "        test_df = pd.read_csv(self.language_directory+self.target_lang_name+\"_test.csv\",header=None)\n",
    "        valid_df = pd.read_csv(self.language_directory+self.target_lang_name+\"_valid.csv\",header=None)\n",
    "\n",
    "        train_max_len = len(max(list(train_df[lang]), key = len))\n",
    "        test_max_len = len(max(list(test_df[lang]), key = len))\n",
    "        valid_max_len = len(max(list(valid_df[lang]), key = len))\n",
    "\n",
    "        del train_df\n",
    "        del test_df\n",
    "        del valid_df\n",
    "\n",
    "        gc.collect()\n",
    "\n",
    "        return max(train_max_len,test_max_len,valid_max_len)\n",
    "\n",
    "    def build_char_vocab(self,lang_id,max_len=None):\n",
    "\n",
    "        \"\"\"\n",
    "        Method to create a vocabulary of characters in language corresponding to lang_id.\n",
    "        \"\"\"\n",
    "\n",
    "        df = pd.read_csv(self.language_directory+self.target_lang_name+\"_\"+self.mode+\".csv\",header=None)\n",
    "\n",
    "        self.data = df.to_numpy()\n",
    "\n",
    "        lang_chars = []\n",
    "        lang_words = df[lang_id].to_numpy()\n",
    "    \n",
    "        for word in lang_words:\n",
    "            lang_chars += list(word)\n",
    "    \n",
    "        unique_lang_chars =  sorted(list(set(lang_chars)))\n",
    "        \n",
    "        if self.meta_tokens:\n",
    "            char2id_dict = {'<start>':0,'<end>':1,'<pad>': 2}\n",
    "            id2char_dict = {0:'<start>',1:'<end>',2:'<pad>'}\n",
    "            \n",
    "        else:\n",
    "            char2id_dict = {}\n",
    "            id2char_dict = {}\n",
    "\n",
    "        start = len(char2id_dict) ##Key of each language character starts based on meta tokens are used or not.\n",
    "    \n",
    "        for i in range(len(unique_lang_chars)):\n",
    "            char2id_dict[unique_lang_chars[i]] = i+start\n",
    "            id2char_dict[i+start] = unique_lang_chars[i]\n",
    "    \n",
    "        del df\n",
    "        del lang_chars\n",
    "        del unique_lang_chars\n",
    "\n",
    "        gc.collect()\n",
    "    \n",
    "        return char2id_dict,id2char_dict\n",
    "\n",
    "    def encode_word(self,word,lang_id,padding=True,append_eos = True):\n",
    "\n",
    "        \"\"\"\n",
    "        Method to encode characters of a given word.\n",
    "\n",
    "        Params:\n",
    "\n",
    "            word: The word to be encoded.\n",
    "            lang_id : 0/1 for source/target lang.\n",
    "            padding : If true, the word encoding would be padded upto max len.\n",
    "            append_eos : Appends <end> token at the end of every word.\n",
    "        \n",
    "        \"\"\"\n",
    "\n",
    "        if lang_id == self.source_lang:\n",
    "            char2id_dict = self.source_char2id\n",
    "            \n",
    "        else:\n",
    "            char2id_dict = self.target_char2id\n",
    "        \n",
    "        max_len = self.max_len\n",
    "\n",
    "        word_encoding = []\n",
    "        \n",
    "        #if lang_id == self.source_lang:\n",
    "        #    word_encoding = [char2id_dict['<start>']] ##every input starts with the <start> token.\n",
    "        \n",
    "        for i in word.lower():\n",
    "            word_encoding.append(char2id_dict[i])\n",
    "\n",
    "        #if append_eos:\n",
    "        #    word_encoding.append(char2id_dict['<end>'])\n",
    "\n",
    "        ## pad till maxlen, if padding is used.\n",
    "        if padding:\n",
    "            word_encoding += [char2id_dict['<pad>']] * (max_len - len(word_encoding))\n",
    "        \n",
    "        return np.array(word_encoding)\n",
    "\n",
    "    def decode_word(self,code_word,lang_id):\n",
    "\n",
    "        \"\"\"\n",
    "        Method to decode an encoded word.\n",
    "\n",
    "        Params:\n",
    "\n",
    "            code_word : The encoded word.\n",
    "            lang_id : 0/1 for source/target lang.\n",
    "        \"\"\"\n",
    "    \n",
    "        word = []\n",
    "\n",
    "        if lang_id == self.source_lang:\n",
    "            id2char_dict = self.source_id2char\n",
    "            char2id_dict = self.source_char2id\n",
    "            \n",
    "        else:\n",
    "            id2char_dict = self.target_id2char\n",
    "            char2id_dict = self.target_char2id\n",
    "\n",
    "        start_idx = 0#1-lang_id\n",
    "        \n",
    "        for i in code_word[start_idx:]:\n",
    "            ## if we reached <end>, then stop decoding\n",
    "            if self.meta_tokens and i == char2id_dict['<end>'] or i == char2id_dict['<pad>']:\n",
    "                break\n",
    "            \n",
    "            word.append(id2char_dict[i])\n",
    "            \n",
    "        return np.array(word)\n",
    "            "
   ]
  },
  {
   "cell_type": "code",
   "execution_count": 5,
   "id": "f1e5df96-e649-4354-852d-85f7116fd797",
   "metadata": {},
   "outputs": [],
   "source": [
    "class WordDataset(Dataset):\n",
    "\n",
    "    \"\"\"\n",
    "    Class that inherits and overrides the methods of Dataset class. This helps in creating a data loader.\n",
    "    \"\"\"\n",
    "    \n",
    "    def __init__(self, language_processor,append_eos=True,device='cpu'):\n",
    "\n",
    "        self.lp = language_processor\n",
    "        self.data = self.lp.data\n",
    "        self.device = device\n",
    "        self.append_eos = append_eos\n",
    "\n",
    "    def __len__(self):\n",
    "        return len(self.data)\n",
    "\n",
    "    def __getitem__(self, idx):\n",
    "        input_word, output_word = self.data[idx]\n",
    "        \n",
    "        input_sequence = self.lp.encode_word(input_word,self.lp.source_lang,padding=False,append_eos=self.append_eos)\n",
    "        output_sequence = self.lp.encode_word(output_word,self.lp.target_lang,padding=False,append_eos=self.append_eos)\n",
    "        \n",
    "\n",
    "        #if len(input_sequence) != len(output_sequence):\n",
    "        #    print(input_word,len(input_word),output_word,len(output_word))\n",
    "        \n",
    "        return torch.tensor(input_sequence).to(device), torch.tensor(output_sequence).to(device)\n",
    "        #return input_sequence, output_sequence\n"
   ]
  },
  {
   "cell_type": "code",
   "execution_count": null,
   "id": "6583324c-6495-4bb5-a536-d614671bc280",
   "metadata": {},
   "outputs": [],
   "source": []
  },
  {
   "cell_type": "code",
   "execution_count": 6,
   "id": "c93e7db4-7631-4b6b-9db9-bf18950fa6cf",
   "metadata": {},
   "outputs": [],
   "source": [
    "def collate_fn(batch):\n",
    "    \n",
    "    input_words, target_words = zip(*batch)\n",
    "    \n",
    "    padded_inputs = pad_sequence(input_words, batch_first=True, padding_value=pad_token_id)\n",
    "    \n",
    "    padded_targets = pad_sequence(target_words, batch_first=True, padding_value=pad_token_id)\n",
    "    \n",
    "    input_lengths = torch.LongTensor([len(seq) for seq in input_words]).to(device)\n",
    "    target_lengths = torch.LongTensor([len(seq) for seq in target_words]).to(device)\n",
    "    \n",
    "    return padded_inputs, padded_targets, input_lengths, target_lengths"
   ]
  },
  {
   "cell_type": "code",
   "execution_count": 7,
   "id": "44c05ce5-5d0e-4e8b-89bd-5f6ef688eb53",
   "metadata": {},
   "outputs": [],
   "source": [
    "batch_size = 64\n",
    "\n",
    "base_dir = \"aksharantar_sampled/\"\n",
    "target_lang = \"tel\"\n",
    "\n",
    "use_meta_tokens = True\n",
    "append_eos = 1\n",
    "\n",
    "lang_dir = base_dir + target_lang + \"/\""
   ]
  },
  {
   "cell_type": "code",
   "execution_count": 8,
   "id": "751abaf1-9aa9-404b-91aa-cb30403695a9",
   "metadata": {},
   "outputs": [],
   "source": [
    "device = torch.device(\"mps\")\n",
    "\n",
    "##creating train loader\n",
    "train_lp = LanguageProcessor(language_directory=lang_dir,target_lang_name=target_lang,mode=\"train\",meta_tokens=use_meta_tokens)\n",
    "train_dataset = WordDataset(train_lp,device=device)\n",
    "train_loader = DataLoader(train_dataset, batch_size=batch_size,collate_fn=collate_fn, shuffle=True)\n",
    "\n",
    "## creating test loader\n",
    "test_lp = LanguageProcessor(language_directory=lang_dir,target_lang_name=target_lang,mode=\"test\",meta_tokens=use_meta_tokens)\n",
    "\n",
    "## to make sure that the same vocabulary and dictionaries are used everywhere\n",
    "test_lp.source_char2id = train_lp.source_char2id\n",
    "test_lp.source_id2char = train_lp.source_id2char\n",
    "test_lp.target_char2id = train_lp.target_char2id\n",
    "test_lp.target_id2char = train_lp.target_id2char\n",
    "\n",
    "test_dataset = WordDataset(test_lp,device=device)\n",
    "test_loader = DataLoader(test_dataset, batch_size=batch_size,collate_fn=collate_fn, shuffle=True)\n",
    "\n",
    "## creating validation loader\n",
    "valid_lp = LanguageProcessor(language_directory=lang_dir,target_lang_name=target_lang,mode=\"valid\",meta_tokens=use_meta_tokens)\n",
    "valid_lp.source_char2id = train_lp.source_char2id\n",
    "valid_lp.source_id2char = train_lp.source_id2char\n",
    "valid_lp.target_char2id = train_lp.target_char2id\n",
    "valid_lp.target_id2char = train_lp.target_id2char\n",
    "\n",
    "valid_dataset = WordDataset(valid_lp,device=device)\n",
    "valid_loader = DataLoader(valid_dataset, batch_size=batch_size,collate_fn=collate_fn, shuffle=True)"
   ]
  },
  {
   "cell_type": "code",
   "execution_count": 9,
   "id": "d9f8fdd0-01d8-4bfd-8f9d-17a570e9c6e0",
   "metadata": {},
   "outputs": [],
   "source": [
    "##in principle these are all fixed across train/test/valid data\n",
    "\n",
    "## the ids of these tokens are the same in the source and target language\n",
    "start_token_id = train_lp.source_char2id['<start>']\n",
    "end_token_id = train_lp.source_char2id['<end>']\n",
    "pad_token_id = train_lp.source_char2id['<pad>']\n",
    "\n",
    "#source_max_len = train_lp.source_max_len\n",
    "#target_max_len = train_lp.target_max_len"
   ]
  },
  {
   "cell_type": "code",
   "execution_count": 10,
   "id": "a06dc7ea-1065-46a6-8e2d-c49ce0cf6615",
   "metadata": {},
   "outputs": [
    {
     "name": "stdout",
     "output_type": "stream",
     "text": [
      "hastakalarupalu హస్తకళారూపాలు\n",
      "chintinchuvaadu చింతించువాడు\n",
      "vraaseddaamani వ్రాసేద్దామని\n",
      "gundichadevi గుండిచాదేవి\n",
      "niyamichaalani నియమిచాలని\n"
     ]
    }
   ],
   "source": [
    "## Verifying if the dataloaders are carrying data correctly.\n",
    "count = 0\n",
    "for data in train_loader:\n",
    "\n",
    "    inp,tar,_,_ = data\n",
    "\n",
    "    inp = inp.view(batch_size,-1).cpu().numpy()\n",
    "    tar = tar.view(batch_size,-1).cpu().numpy()\n",
    "\n",
    "    for i in range(min(batch_size,5)):\n",
    "        print(\"\".join(list(train_lp.decode_word(inp[i],0))),\"\".join(list(train_lp.decode_word(tar[i],1))))\n",
    "\n",
    "    break"
   ]
  },
  {
   "cell_type": "code",
   "execution_count": null,
   "id": "b8d39e84-a7e5-4344-af5d-ed91b8c5d2ac",
   "metadata": {},
   "outputs": [],
   "source": []
  },
  {
   "cell_type": "code",
   "execution_count": 11,
   "id": "f3698224-b989-4dfd-99a0-0007c176a5e7",
   "metadata": {},
   "outputs": [],
   "source": [
    "class EncoderRNN(nn.Module):\n",
    "    def __init__(self, input_size, hidden_size,padding_idx = None ,dropout_p=0.1,num_layers = 1,bidirectional = False):\n",
    "        super(EncoderRNN, self).__init__()\n",
    "        self.hidden_size = hidden_size\n",
    "\n",
    "        self.embedding = nn.Embedding(input_size, hidden_size,padding_idx = padding_idx)\n",
    "        self.gru = nn.GRU(hidden_size, hidden_size, batch_first=True,num_layers = num_layers,bidirectional = bidirectional)\n",
    "        self.dropout = nn.Dropout(dropout_p)\n",
    "\n",
    "    def forward(self, input):\n",
    "        embedded = self.dropout(self.embedding(input))\n",
    "        output, hidden = self.gru(embedded)\n",
    "        \n",
    "        return output, hidden"
   ]
  },
  {
   "cell_type": "code",
   "execution_count": null,
   "id": "ea3681ca-02e0-4ca2-94af-43af4f8f821b",
   "metadata": {},
   "outputs": [],
   "source": []
  },
  {
   "cell_type": "code",
   "execution_count": 12,
   "id": "1e6c0c87-21d9-4609-9739-9df28e7844bb",
   "metadata": {},
   "outputs": [],
   "source": [
    "class DecoderRNN(nn.Module):\n",
    "    \n",
    "    def __init__(self, hidden_size, output_size,max_len,start_token_id,padding_idx = None,num_layers = 1,bidirectional = False):\n",
    "        super(DecoderRNN, self).__init__()\n",
    "        \n",
    "        self.num_layers = num_layers\n",
    "        self.D = 1 ##the number of directions in which the input is viewed.\n",
    "        if bidirectional:\n",
    "            self.D = 2\n",
    "\n",
    "        ## In h0 (the input to the decoder) first dimension expected is number of directions X number of layers \n",
    "        self.expected_h0_dim1 = self.D*self.num_layers\n",
    "\n",
    "        self.embedding = nn.Embedding(output_size, hidden_size,padding_idx = padding_idx)\n",
    "        self.gru = nn.GRU(hidden_size, hidden_size, batch_first=True,num_layers = num_layers,bidirectional = bidirectional)\n",
    "        self.out = nn.Linear(hidden_size*self.D, output_size)\n",
    "        #self.max_len = max_len\n",
    "        self.start_token_id = start_token_id\n",
    "\n",
    "    def forward(self, encoder_outputs, encoder_hidden, target_tensor,eval_mode = False,teacher_forcing_ratio=0):\n",
    "        \n",
    "        batch_size = encoder_outputs.size(0)\n",
    "        if not eval_mode:\n",
    "            max_len = target_tensor.size(1)\n",
    "\n",
    "        ## eval mode is for explicitly looking at the word that is predicted to compare with the correct word.\n",
    "        if eval_mode:\n",
    "            batch_size = 1\n",
    "            max_len = 28\n",
    "\n",
    "        ## TRY : adding requires_grad = True in torch.empty\n",
    "        #decoder_input = torch.empty(batch_size, 1, dtype=torch.long, device=device).fill_(-1)\n",
    "        decoder_input = torch.zeros((batch_size, 1), dtype=torch.long, device=device)#.fill_(-1)\n",
    "        decoder_hidden = encoder_hidden ## in the first time step of the decoder, the output of the encoder is the input.\n",
    "        decoder_outputs = []\n",
    "\n",
    "        for i in range(max_len):\n",
    "            ## print(i,self.max_len)\n",
    "            decoder_output, decoder_hidden  = self.forward_step(decoder_input, decoder_hidden,eval_mode)\n",
    "            #print(f\"Step{i}\\t Input:{decoder_input.shape}\\t State:{decoder_hidden.shape}\\tOutput:{decoder_output.shape}\\t\")\n",
    "            ## print(decoder_output.shape)\n",
    "            decoder_outputs.append(decoder_output)\n",
    "\n",
    "            teacher_force = random.random() < teacher_forcing_ratio\n",
    "\n",
    "            if (target_tensor is not None) and (teacher_force):\n",
    "                # Teacher forcing: Feed the target as the next input\n",
    "                decoder_input = target_tensor[:, i].unsqueeze(1) # Teacher forcing\n",
    "            else:\n",
    "                # Without teacher forcing: use its own predictions as the next input\n",
    "                _, topi = decoder_output.topk(1)\n",
    "                decoder_input = topi.squeeze(-1).detach()  # detach from history as input\n",
    "\n",
    "        decoder_outputs = torch.cat(decoder_outputs, dim=1)\n",
    "        decoder_outputs = F.log_softmax(decoder_outputs, dim=-1)\n",
    "        return decoder_outputs, decoder_hidden, None # We return `None` for consistency in the training loop\n",
    "\n",
    "    def forward_step(self, input, hidden,eval_mode):\n",
    "\n",
    "        #print(hidden.unsqueeze(0).shape)\n",
    "        if eval_mode:\n",
    "            input = input.view(1,-1)\n",
    "\n",
    "        \n",
    "        output = self.embedding(input)\n",
    "\n",
    "        #print(hidden.shape)\n",
    "\n",
    "        if hidden.shape[0] != self.expected_h0_dim1:\n",
    "            reshaped_hidden = hidden.repeat(self.expected_h0_dim1,1,1)\n",
    "        else:\n",
    "            reshaped_hidden = hidden\n",
    "\n",
    "        #print(\"In DC\",hidden.shape,reshaped_hidden.shape)\n",
    "        \n",
    "        #print(output.shape,output.unsqueeze(0).shape,output.unsqueeze(0).transpose(0,1).shape)\n",
    "\n",
    "        #print(\"In DC INP:\",input.shape)\n",
    "        #print(\"In DC HS:\",reshaped_hidden.shape)\n",
    "        \n",
    "        output = F.relu(output)\n",
    "        output, hidden = self.gru(output, reshaped_hidden)\n",
    "        #print(output.shape)\n",
    "        #print(\"Yo1\")\n",
    "        output = self.out(output.squeeze(0))\n",
    "        #print(\"Yo2\")\n",
    "        return output, hidden"
   ]
  },
  {
   "cell_type": "code",
   "execution_count": null,
   "id": "a7cb0d70-d255-49e2-b349-56e3be50e0e0",
   "metadata": {},
   "outputs": [],
   "source": []
  },
  {
   "cell_type": "code",
   "execution_count": 13,
   "id": "c0b65188-48a0-4bf6-9bd9-cbab7ca05b70",
   "metadata": {},
   "outputs": [
    {
     "data": {
      "text/plain": [
       "'\\nOne thing to take care of:\\n\\n    In encoder we set no grad for pad token in nn.Embed\\n    \\n    In decoder, \\n        => need to see what to do after actual word is generated. How to deal with padding?\\n\\n'"
      ]
     },
     "execution_count": 13,
     "metadata": {},
     "output_type": "execute_result"
    }
   ],
   "source": [
    "\"\"\"\n",
    "One thing to take care of:\n",
    "\n",
    "    In encoder we set no grad for pad token in nn.Embed\n",
    "    \n",
    "    In decoder, \n",
    "        => need to see what to do after actual word is generated. How to deal with padding?\n",
    "\n",
    "\"\"\""
   ]
  },
  {
   "cell_type": "code",
   "execution_count": 14,
   "id": "67c38af4-7bf7-4adf-ab8b-71ebb0b69416",
   "metadata": {},
   "outputs": [],
   "source": [
    "def train_epoch(dataloader, encoder, decoder, encoder_optimizer,decoder_optimizer, criterion,teacher_forcing_ratio):\n",
    "\n",
    "    total_loss = 0\n",
    "    for data in tqdm(dataloader):\n",
    "        ## print(f\"Data Shape : {data[0].shape,data[1].shape}\")\n",
    "        input_tensor, target_tensor,_,target_max_len = data\n",
    "\n",
    "        encoder_optimizer.zero_grad()\n",
    "        decoder_optimizer.zero_grad()\n",
    "\n",
    "        encoder_outputs, encoder_hidden = encoder(input_tensor)\n",
    "        \n",
    "        decoder_outputs, _, _ = decoder(encoder_outputs, encoder_hidden, target_tensor=target_tensor,teacher_forcing_ratio = teacher_forcing_ratio)\n",
    "\n",
    "        #print(decoder_outputs.shape,decoder_outputs.view(-1, decoder_outputs.size(-1)).shape,target_tensor.shape,target_tensor.view(-1).shape)\n",
    "\n",
    "        #print(f\"Decoder Outputs Shape for computing Loss : {decoder_outputs.view(-1, decoder_outputs.size(-1)).shape}\")\n",
    "        #print(f\"Target Shape for computing Loss : {target_tensor.view(-1).shape}\")\n",
    "        loss = criterion(\n",
    "            decoder_outputs.view(-1, decoder_outputs.size(-1)),\n",
    "            target_tensor.view(-1)\n",
    "        )\n",
    "        loss.backward()\n",
    "\n",
    "        encoder_optimizer.step()\n",
    "        decoder_optimizer.step()\n",
    "\n",
    "        total_loss += loss.item()\n",
    "\n",
    "    return total_loss / len(dataloader)"
   ]
  },
  {
   "cell_type": "code",
   "execution_count": 15,
   "id": "72aee733-e313-47eb-b041-7af96d5a65db",
   "metadata": {},
   "outputs": [],
   "source": [
    "def asMinutes(s):\n",
    "    m = math.floor(s / 60)\n",
    "    s -= m * 60\n",
    "    return '%dm %ds' % (m, s)\n",
    "\n",
    "def timeSince(since, percent):\n",
    "    now = time.time()\n",
    "    s = now - since\n",
    "    es = s / (percent)\n",
    "    rs = es - s\n",
    "    return '%s (- %s)' % (asMinutes(s), asMinutes(rs))"
   ]
  },
  {
   "cell_type": "code",
   "execution_count": 16,
   "id": "1e907afc-4b4b-4f7b-8e90-e605ba441e48",
   "metadata": {},
   "outputs": [],
   "source": [
    "def compute_accuracy(dataloader,encoder,decoder,loss_criterion,padding_token_id,end_token_id = 1,ignore_padding = True,device='cpu'):\n",
    "\n",
    "    \"\"\"\n",
    "    Method to compute the accuracy using the model (encoder-decoder) using dataloader.\n",
    "\n",
    "    This method returns word and character level accuracy.\n",
    "\n",
    "        Word Level Accuracy : Accuracy is computed at the word level and a word is right iff every character is predicted correctly.\n",
    "        Char Level Accuracy : Accuracy is computed by comparing each predicted character wrt the correct char.\n",
    "\n",
    "    Params:\n",
    "\n",
    "        dataloader : The train/test/valid dataloader.\n",
    "        encoder : The encoder \n",
    "        decoder : The decoder\n",
    "        padding_token_id : The id of the padding token.\n",
    "        ignore_padding : If True, then in word level accuracy, the padding characters are ignored in computing the word level accuracy.\n",
    "                        char level accuracy, the padding characters are not considered at all.\n",
    "\n",
    "                        If false, padding is considered to be a part of the word (for word level accuracy) and \n",
    "    \"\"\"\n",
    "\n",
    "    char_lvl_accuracy = 0\n",
    "    word_level_accuracy = 0\n",
    "\n",
    "    tot_chars = 0\n",
    "    tot_words = 0\n",
    "\n",
    "    tot_correct_char_preds = 0\n",
    "    tot_correct_word_preds = 0\n",
    "\n",
    "    loss = 0\n",
    "\n",
    "    criterion = loss_criterion.to(device)\n",
    "\n",
    "    with torch.no_grad():\n",
    "\n",
    "        train = 0\n",
    "\n",
    "        if encoder.training and decoder.training: ## reset the the model back to train mode\n",
    "            train = 1\n",
    "\n",
    "        encoder.eval()\n",
    "        decoder.eval()\n",
    "\n",
    "        for data in dataloader:\n",
    "            \n",
    "            input_tensor, target_tensor,_,target_max_len = data\n",
    "    \n",
    "            encoder_outputs, encoder_hidden = encoder(input_tensor)\n",
    "            ## even though we are passing target tensor, the teacher forcing ratio is 0, so no teacher forcing\n",
    "            decoder_outputs, _, _ = decoder(encoder_outputs, encoder_hidden, target_tensor = target_tensor,teacher_forcing_ratio = 0)\n",
    "    \n",
    "            loss += criterion(\n",
    "                decoder_outputs.view(-1, decoder_outputs.size(-1)),\n",
    "                target_tensor.view(-1)).item()\n",
    "    \n",
    "            ## For a batch, for each character find the most probable output word.\n",
    "            multi_step_preds = torch.argmax(decoder_outputs,dim=2)\n",
    "            multi_step_pred_correctness = (multi_step_preds ==  target_tensor)\n",
    "            num_chars = multi_step_preds.numel() ##find the total number of characters in the current batch\n",
    "            num_words = multi_step_preds.shape[0] ##find the total number of words in the current batch.\n",
    "    \n",
    "            if ignore_padding: ## if padding has to be ignored.\n",
    "    \n",
    "                ## for each word, based on the padding token ID, find the first occurance of the padding token, marking the begining of padding.\n",
    "                padding_start = torch.argmax(target_tensor == pad_token_id,dim=1).to(device)\n",
    "                ## Creating a mask with 1's in each position of a padding token\n",
    "                mask = (torch.arange(target_tensor.size(1)).unsqueeze(0).to(device) >= padding_start.unsqueeze(1))\n",
    "                #print(mask)\n",
    "                \n",
    "                ##doing a logical OR with the mask makes sure that the padding tokens do not affect the correctness of the word\n",
    "                tot_correct_word_preds += (torch.all(torch.logical_or(multi_step_pred_correctness,mask),dim=1).int().sum()).item()\n",
    "                tot_words += num_words\n",
    "    \n",
    "                ##creating a complement of the mask so to mark padding tokens as irrelevant\n",
    "                complement_mask = (1-mask.int()).bool()\n",
    "                num_pad_chars = mask.int().sum().item()\n",
    "                ##counting number of non_pad_chars to compute accuracy.\n",
    "                num_non_pad_chars = num_chars - num_pad_chars\n",
    "    \n",
    "                tot_correct_char_preds += (torch.logical_and(multi_step_pred_correctness,complement_mask).int().sum()).item()\n",
    "                tot_chars += num_non_pad_chars\n",
    "                \n",
    "        \n",
    "            else: ##otherwise.\n",
    "    \n",
    "                tot_correct_word_preds += (torch.all(multi_step_pred_correctness,dim=1).int().sum()).item()\n",
    "                tot_words += num_words\n",
    "                \n",
    "                tot_correct_char_preds += (multi_step_pred_correctness.int().sum()).item()\n",
    "                tot_chars += num_chars\n",
    "\n",
    "        #print(tot_correct_char_preds,tot_chars)\n",
    "        #print(tot_correct_word_preds,tot_words)\n",
    "    \n",
    "        char_lvl_accuracy = round(tot_correct_char_preds*100/tot_chars,2)\n",
    "        word_lvl_accuracy = round(tot_correct_word_preds*100/tot_words,2)\n",
    "\n",
    "        loss /= dataloader.dataset.data.shape[0]\n",
    "\n",
    "        if train:\n",
    "\n",
    "            encoder.train()\n",
    "            decoder.train()\n",
    "    \n",
    "        return round(loss,2),char_lvl_accuracy,word_lvl_accuracy"
   ]
  },
  {
   "cell_type": "code",
   "execution_count": null,
   "id": "772f149d-39ce-46ef-9b72-3cb24a57d7b3",
   "metadata": {},
   "outputs": [],
   "source": []
  },
  {
   "cell_type": "code",
   "execution_count": 18,
   "id": "f33e86bf-bdef-4939-9f94-66c10e15665a",
   "metadata": {},
   "outputs": [],
   "source": [
    "def train(train_dataloader,valid_loader, encoder, decoder, n_epochs,loss_criterion = nn.NLLLoss(), learning_rate=0.001,teacher_forcing = False,teacher_forcing_ratio = 0,print_every=100, plot_every=100,device='cpu'):\n",
    "    \n",
    "    start = time.time()\n",
    "    plot_losses = []\n",
    "    print_loss_total = 0  # Reset every print_every\n",
    "    plot_loss_total = 0  # Reset every plot_every\n",
    "\n",
    "    encoder_optimizer = optim.Adam(encoder.parameters(), lr=learning_rate)\n",
    "    decoder_optimizer = optim.Adam(decoder.parameters(), lr=learning_rate)\n",
    "\n",
    "    lp = train_loader.dataset.lp\n",
    "    \n",
    "    criterion = loss_criterion.to(device)\n",
    "\n",
    "    for epoch in tqdm(range(1, n_epochs + 1)):\n",
    "\n",
    "        \"\"\"if epoch/n_epochs > teacher_forcing_ratio:\n",
    "            teacher_forcing = False\"\"\"\n",
    "        \n",
    "        loss = train_epoch(train_dataloader, encoder, decoder, encoder_optimizer, decoder_optimizer, criterion,teacher_forcing_ratio)\n",
    "        print_loss_total += loss\n",
    "        plot_loss_total += loss\n",
    "        val_loss,val_char_lvl_accuracy,val_word_level_accuracy = compute_accuracy(valid_loader,encoder,decoder,loss_criterion,padding_token_id = lp.source_char2id['<pad>'],end_token_id = lp.source_char2id['<end>'],ignore_padding=True,device=device)\n",
    "\n",
    "        print(f\"Epoch {epoch}\\t Val Loss : {val_loss}\\tC-Val Acc : {val_char_lvl_accuracy}%\\t W-Val Acc : {val_word_level_accuracy}%\")\n",
    "\n",
    "        if epoch % print_every == 0:\n",
    "            print_loss_avg = print_loss_total / print_every\n",
    "            print_loss_total = 0\n",
    "            #print('%s (%d %d%%) %.4f' % (timeSince(start, epoch / n_epochs),epoch, epoch / n_epochs * 100, print_loss_avg))\n",
    "            train_loss,train_char_lvl_accuracy,train_word_level_accuracy = compute_accuracy(train_loader,encoder,decoder,loss_criterion,padding_token_id = lp.source_char2id['<pad>'],end_token_id = lp.source_char2id['<end>'],ignore_padding=True,device=device)\n",
    "            print(f\"Epoch {epoch}\\t Train Loss : {train_loss}\\t C-Train Acc : {train_char_lvl_accuracy}%\\t W-Train Acc : {train_word_level_accuracy}%\")\n",
    "            \n",
    "\n",
    "        if epoch % plot_every == 0:\n",
    "            plot_loss_avg = plot_loss_total / plot_every\n",
    "            plot_losses.append(plot_loss_avg)\n",
    "            plot_loss_total = 0\n",
    "\n",
    "    showPlot(plot_losses)"
   ]
  },
  {
   "cell_type": "code",
   "execution_count": null,
   "id": "3e03b50a-c511-4dc7-b976-304a97cff25b",
   "metadata": {},
   "outputs": [],
   "source": []
  },
  {
   "cell_type": "code",
   "execution_count": 20,
   "id": "44f32dff-d6d8-465f-a75a-c878d3d4bac0",
   "metadata": {},
   "outputs": [],
   "source": [
    "def showPlot(points):\n",
    "    plt.figure()\n",
    "    fig, ax = plt.subplots()\n",
    "    # this locator puts ticks at regular intervals\n",
    "    loc = ticker.MultipleLocator(base=0.2)\n",
    "    ax.yaxis.set_major_locator(loc)\n",
    "    plt.plot(points)"
   ]
  },
  {
   "cell_type": "code",
   "execution_count": 21,
   "id": "d0bf6186-c346-41f5-b23a-70ac8dec092c",
   "metadata": {},
   "outputs": [],
   "source": [
    "def evaluate(encoder, decoder, word, language_processor,device = \"cpu\"):\n",
    "\n",
    "    lp = language_processor\n",
    "    \n",
    "    with torch.no_grad():\n",
    "\n",
    "        train = 0\n",
    "\n",
    "        if encoder.training and decoder.training: ## reset the the model back to train mode\n",
    "            train = 1\n",
    "\n",
    "        encoder.eval()\n",
    "        decoder.eval()\n",
    "        \n",
    "        input_tensor = torch.tensor(lp.encode_word(word,lp.source_lang,padding=True,append_eos = True)).to(device).view(1,-1)\n",
    "\n",
    "        encoder_outputs, encoder_hidden = encoder(input_tensor)\n",
    "\n",
    "        \"\"\"if encoder_hidden.shape[0] != decoder.expected_h0_dim1:\n",
    "            reshaped_encoder_hidden = encoder_hidden.repeat(decoder.expected_h0_dim1,1,1)\n",
    "        else:\n",
    "            reshaped_encoder_hidden = encoder_hidden\"\"\"\n",
    "\n",
    "        #print(encoder_hidden.shape,encoder_hidden.shape)\n",
    "\n",
    "        decoder_outputs, decoder_hidden, decoder_attn = decoder(encoder_outputs, encoder_hidden,eval_mode = True,target_tensor = None)\n",
    "\n",
    "        output_size = len(list(train_lp.target_char2id.keys()))\n",
    "        decoder_outputs = decoder_outputs.view(28,-1)\n",
    "\n",
    "        _, topi = decoder_outputs.topk(1)\n",
    "        decoded_ids = topi.squeeze()\n",
    "\n",
    "        decoded_chars = []\n",
    "        \"\"\"for idx in decoded_ids:\n",
    "            if idx.item() == end_token_id:\n",
    "                break\n",
    "            decoded_chars.append(lp.target_id2char[idx.item()])\"\"\"\n",
    "\n",
    "        decoded_word = lp.decode_word(decoded_ids.cpu().numpy(),lp.target_lang)\n",
    "\n",
    "    if train:\n",
    "        encoder.train()\n",
    "        decoder.train()\n",
    "\n",
    "    \n",
    "    return decoded_word, decoder_attn"
   ]
  },
  {
   "cell_type": "code",
   "execution_count": null,
   "id": "ce503bff-3de9-49b3-beec-16fa599b10d3",
   "metadata": {},
   "outputs": [],
   "source": []
  },
  {
   "cell_type": "code",
   "execution_count": 22,
   "id": "22585702-e9b2-4dcb-8260-45a67f5ee101",
   "metadata": {},
   "outputs": [
    {
     "data": {
      "application/vnd.jupyter.widget-view+json": {
       "model_id": "86852ddad27548d5b317fcb24f454299",
       "version_major": 2,
       "version_minor": 0
      },
      "text/plain": [
       "  0%|          | 0/10 [00:00<?, ?it/s]"
      ]
     },
     "metadata": {},
     "output_type": "display_data"
    },
    {
     "data": {
      "application/vnd.jupyter.widget-view+json": {
       "model_id": "6021f407a7324a26bf8ab6ac13396cf9",
       "version_major": 2,
       "version_minor": 0
      },
      "text/plain": [
       "  0%|          | 0/800 [00:00<?, ?it/s]"
      ]
     },
     "metadata": {},
     "output_type": "display_data"
    },
    {
     "name": "stdout",
     "output_type": "stream",
     "text": [
      "Epoch 1\t Val Loss : 0.02\tC-Val Acc : 69.66%\t W-Val Acc : 26.34%\n"
     ]
    },
    {
     "data": {
      "application/vnd.jupyter.widget-view+json": {
       "model_id": "428a44c8b30b479da33485c7496e5fdf",
       "version_major": 2,
       "version_minor": 0
      },
      "text/plain": [
       "  0%|          | 0/800 [00:00<?, ?it/s]"
      ]
     },
     "metadata": {},
     "output_type": "display_data"
    },
    {
     "name": "stdout",
     "output_type": "stream",
     "text": [
      "Epoch 2\t Val Loss : 0.01\tC-Val Acc : 77.96%\t W-Val Acc : 40.23%\n"
     ]
    },
    {
     "data": {
      "application/vnd.jupyter.widget-view+json": {
       "model_id": "a681d5ac61ec4fb6b5fb40d3916d2b21",
       "version_major": 2,
       "version_minor": 0
      },
      "text/plain": [
       "  0%|          | 0/800 [00:00<?, ?it/s]"
      ]
     },
     "metadata": {},
     "output_type": "display_data"
    },
    {
     "name": "stdout",
     "output_type": "stream",
     "text": [
      "Epoch 3\t Val Loss : 0.01\tC-Val Acc : 80.26%\t W-Val Acc : 44.48%\n",
      "Epoch 3\t Train Loss : 0.01\t C-Train Acc : 82.74%\t W-Train Acc : 48.42%\n"
     ]
    },
    {
     "data": {
      "application/vnd.jupyter.widget-view+json": {
       "model_id": "beac0cdd52c841a2860837641210b9aa",
       "version_major": 2,
       "version_minor": 0
      },
      "text/plain": [
       "  0%|          | 0/800 [00:00<?, ?it/s]"
      ]
     },
     "metadata": {},
     "output_type": "display_data"
    },
    {
     "name": "stdout",
     "output_type": "stream",
     "text": [
      "Epoch 4\t Val Loss : 0.01\tC-Val Acc : 81.78%\t W-Val Acc : 47.53%\n"
     ]
    },
    {
     "data": {
      "application/vnd.jupyter.widget-view+json": {
       "model_id": "3c7129f8f45c4496bfe7741fb8bf56e0",
       "version_major": 2,
       "version_minor": 0
      },
      "text/plain": [
       "  0%|          | 0/800 [00:00<?, ?it/s]"
      ]
     },
     "metadata": {},
     "output_type": "display_data"
    },
    {
     "name": "stdout",
     "output_type": "stream",
     "text": [
      "Epoch 5\t Val Loss : 0.01\tC-Val Acc : 82.18%\t W-Val Acc : 47.34%\n"
     ]
    },
    {
     "data": {
      "application/vnd.jupyter.widget-view+json": {
       "model_id": "c11bd4a164234a38b609e89679b3fea6",
       "version_major": 2,
       "version_minor": 0
      },
      "text/plain": [
       "  0%|          | 0/800 [00:00<?, ?it/s]"
      ]
     },
     "metadata": {},
     "output_type": "display_data"
    },
    {
     "name": "stdout",
     "output_type": "stream",
     "text": [
      "Epoch 6\t Val Loss : 0.01\tC-Val Acc : 82.92%\t W-Val Acc : 49.68%\n",
      "Epoch 6\t Train Loss : 0.01\t C-Train Acc : 88.83%\t W-Train Acc : 62.41%\n"
     ]
    },
    {
     "data": {
      "application/vnd.jupyter.widget-view+json": {
       "model_id": "d9f43ba80be74f79bd3d848657cd31ac",
       "version_major": 2,
       "version_minor": 0
      },
      "text/plain": [
       "  0%|          | 0/800 [00:00<?, ?it/s]"
      ]
     },
     "metadata": {},
     "output_type": "display_data"
    },
    {
     "name": "stdout",
     "output_type": "stream",
     "text": [
      "Epoch 7\t Val Loss : 0.01\tC-Val Acc : 83.32%\t W-Val Acc : 50.15%\n"
     ]
    },
    {
     "data": {
      "application/vnd.jupyter.widget-view+json": {
       "model_id": "37c19b0d47e44670a37ac8bea5af9f35",
       "version_major": 2,
       "version_minor": 0
      },
      "text/plain": [
       "  0%|          | 0/800 [00:00<?, ?it/s]"
      ]
     },
     "metadata": {},
     "output_type": "display_data"
    },
    {
     "name": "stdout",
     "output_type": "stream",
     "text": [
      "Epoch 8\t Val Loss : 0.01\tC-Val Acc : 83.48%\t W-Val Acc : 50.27%\n"
     ]
    },
    {
     "data": {
      "application/vnd.jupyter.widget-view+json": {
       "model_id": "c5d4ccd693424774bd002feed307257b",
       "version_major": 2,
       "version_minor": 0
      },
      "text/plain": [
       "  0%|          | 0/800 [00:00<?, ?it/s]"
      ]
     },
     "metadata": {},
     "output_type": "display_data"
    },
    {
     "name": "stdout",
     "output_type": "stream",
     "text": [
      "Epoch 9\t Val Loss : 0.01\tC-Val Acc : 83.2%\t W-Val Acc : 49.78%\n",
      "Epoch 9\t Train Loss : 0.01\t C-Train Acc : 91.04%\t W-Train Acc : 68.19%\n"
     ]
    },
    {
     "data": {
      "application/vnd.jupyter.widget-view+json": {
       "model_id": "82c288d92ba14d188f1af4c87dc16740",
       "version_major": 2,
       "version_minor": 0
      },
      "text/plain": [
       "  0%|          | 0/800 [00:00<?, ?it/s]"
      ]
     },
     "metadata": {},
     "output_type": "display_data"
    },
    {
     "name": "stdout",
     "output_type": "stream",
     "text": [
      "Epoch 10\t Val Loss : 0.01\tC-Val Acc : 83.87%\t W-Val Acc : 52.15%\n"
     ]
    },
    {
     "data": {
      "text/plain": [
       "<Figure size 640x480 with 0 Axes>"
      ]
     },
     "metadata": {},
     "output_type": "display_data"
    },
    {
     "data": {
      "image/png": "[encoded data removed]",
      "text/plain": [
       "<Figure size 640x480 with 1 Axes>"
      ]
     },
     "metadata": {},
     "output_type": "display_data"
    }
   ],
   "source": [
    "input_size = len(list(train_lp.source_char2id.keys()))\n",
    "output_size = len(list(train_lp.target_char2id.keys()))\n",
    "\n",
    "hidden_size = 128\n",
    "batch_size = 64\n",
    "\n",
    "num_encoder_layers = 2\n",
    "num_decoder_layers = 2\n",
    "\n",
    "bidirectional = True\n",
    "teacher_forcing = True\n",
    "teacher_forcing_ratio = 0.3\n",
    "\n",
    "loss_criterion =  nn.CrossEntropyLoss(ignore_index=pad_token_id)\n",
    "\n",
    "#loss_criterion = nn.NLLLoss(ignore_index=pad_token_id)\n",
    "#loss_criterion = nn.NLLLoss(ignore_index=pad_token_id)\n",
    "\n",
    "dropout=0.1\n",
    "\n",
    "encoder = EncoderRNN(input_size = input_size, hidden_size = hidden_size,num_layers=num_encoder_layers,bidirectional=bidirectional,padding_idx=pad_token_id,dropout_p=dropout).to(device)\n",
    "decoder = DecoderRNN(hidden_size = hidden_size, output_size = output_size,max_len = train_lp.max_len,start_token_id = start_token_id,num_layers = num_decoder_layers,bidirectional = bidirectional,padding_idx = None).to(device)\n",
    "\n",
    "train(train_loader,valid_loader, encoder, decoder, 10,loss_criterion=loss_criterion, print_every=3, plot_every=5,device=device,teacher_forcing = teacher_forcing,teacher_forcing_ratio=teacher_forcing_ratio)"
   ]
  },
  {
   "cell_type": "code",
   "execution_count": null,
   "id": "2edb1380-b7e4-4744-a8ef-3b720852639b",
   "metadata": {},
   "outputs": [],
   "source": []
  },
  {
   "cell_type": "code",
   "execution_count": 31,
   "id": "94f0c784-f46f-4e4f-ae48-55a3be347e1d",
   "metadata": {},
   "outputs": [
    {
     "name": "stdout",
     "output_type": "stream",
     "text": [
      "శ్రీరామా\n",
      "తెజస్వి\n",
      "\n"
     ]
    }
   ],
   "source": [
    "op1,_ = evaluate(encoder, decoder, word=\"srirama\", language_processor=train_lp,device = device)\n",
    "\n",
    "op2,_ = evaluate(encoder, decoder, word=\"tejasvi\", language_processor=train_lp,device = device)\n",
    "\n",
    "op1_string = \"\".join(op1)\n",
    "print(op_string[:8])\n",
    "\n",
    "op2_string = \"\".join(op2)\n",
    "print(op2_string[:7])\n",
    "\n",
    "print()\n"
   ]
  },
  {
   "cell_type": "markdown",
   "id": "e20a6d6e-bde3-46d6-b858-95fd8768a3ff",
   "metadata": {},
   "source": [
    "### JV\n",
    "\n",
    "###### To Do:\n",
    "\n",
    "1. Add LSTM,RNN support : Train\n",
    "2. Write code for attention.\n",
    "3. Write code for beam search.\n",
    "4. Now create a seq2seq class, specify attention = True for attention to work."
   ]
  },
  {
   "cell_type": "code",
   "execution_count": null,
   "id": "6e908c4f-af04-4ff8-95e4-875c6e5a156b",
   "metadata": {},
   "outputs": [],
   "source": []
  }
 ],
 "metadata": {
  "kernelspec": {
   "display_name": "Python 3 (ipykernel)",
   "language": "python",
   "name": "python3"
  },
  "language_info": {
   "codemirror_mode": {
    "name": "ipython",
    "version": 3
   },
   "file_extension": ".py",
   "mimetype": "text/x-python",
   "name": "python",
   "nbconvert_exporter": "python",
   "pygments_lexer": "ipython3",
   "version": "3.8.18"
  }
 },
 "nbformat": 4,
 "nbformat_minor": 5
}
