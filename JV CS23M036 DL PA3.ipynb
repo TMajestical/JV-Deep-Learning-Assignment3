{
 "cells": [
  {
   "cell_type": "code",
   "execution_count": 1,
   "id": "6c7dcbe7-698c-4e1a-b53f-56a11603ae20",
   "metadata": {},
   "outputs": [],
   "source": [
    "#JV"
   ]
  },
  {
   "cell_type": "code",
   "execution_count": 23,
   "id": "75927828-0e72-4da3-a840-98d46c1e6e37",
   "metadata": {},
   "outputs": [],
   "source": [
    "import numpy as np\n",
    "\n",
    "import pandas as pd\n",
    "\n",
    "import torch\n",
    "import torch.nn as nn\n",
    "from torch import optim\n",
    "import torch.nn.functional as F\n",
    "from torch.utils.data import TensorDataset, DataLoader, RandomSampler"
   ]
  },
  {
   "cell_type": "code",
   "execution_count": null,
   "id": "96d84851-1726-4bfb-955d-209cdc80bc97",
   "metadata": {},
   "outputs": [],
   "source": []
  },
  {
   "cell_type": "code",
   "execution_count": 3,
   "id": "7536d5a4-526f-4eb9-aa36-4e3a17c86578",
   "metadata": {},
   "outputs": [],
   "source": [
    "df = pd.read_csv(\"tel/tel_train.csv\",header=None)"
   ]
  },
  {
   "cell_type": "code",
   "execution_count": 4,
   "id": "33cb6fe2-8ee5-4f7a-b327-765487a5fc86",
   "metadata": {},
   "outputs": [],
   "source": [
    "telugu_chars = []\n",
    "\n",
    "telugu_words = df[1].to_numpy()\n",
    "\n",
    "for word in telugu_words:\n",
    "    telugu_chars += list(word)"
   ]
  },
  {
   "cell_type": "code",
   "execution_count": 5,
   "id": "f711fe17-6c48-450c-9961-589448363f98",
   "metadata": {},
   "outputs": [],
   "source": [
    "unique_telugu_chars =  sorted(list(set(telugu_chars)))\n",
    "\n",
    "char_id_dict = {}\n",
    "\n",
    "for i in range(len(unique_telugu_chars)):\n",
    "    char_id_dict[i] = unique_telugu_chars[i]"
   ]
  },
  {
   "cell_type": "code",
   "execution_count": null,
   "id": "f432214f-ac05-4a5d-b50f-57fa46eed427",
   "metadata": {},
   "outputs": [],
   "source": []
  },
  {
   "cell_type": "code",
   "execution_count": 6,
   "id": "6b5b0e4b-44bb-44be-b8c7-6f04376d7331",
   "metadata": {},
   "outputs": [],
   "source": [
    "max_len = -1\n",
    "mw = \"\"\n",
    "for w in telugu_words:\n",
    "    if max_len<len(w):\n",
    "        max_len = len(w)\n",
    "        mw = w\n",
    "\n",
    "\n",
    "#list(telugu_words).index(w)"
   ]
  },
  {
   "cell_type": "code",
   "execution_count": 7,
   "id": "7e1fccd4-5e9b-460a-803b-aff461e89a5e",
   "metadata": {},
   "outputs": [
    {
     "data": {
      "text/plain": [
       "'ఉమ్మ్మ్మ్మ్ప్ప్పుడూయః'"
      ]
     },
     "execution_count": 7,
     "metadata": {},
     "output_type": "execute_result"
    }
   ],
   "source": [
    "mw"
   ]
  },
  {
   "cell_type": "code",
   "execution_count": 11,
   "id": "4520481e-8c1d-40b2-a7b9-1459477a6bdd",
   "metadata": {},
   "outputs": [],
   "source": [
    "vocab = {'<start>':0,'<end>':1,'<pad>': 2}  # Initialize vocabulary with padding token\n",
    "\n",
    "def build_vocab(words):\n",
    "    for word in words:\n",
    "        tokens = list(word)\n",
    "        for token in tokens:\n",
    "            if token not in vocab:\n",
    "                vocab[token] = len(vocab)\n",
    "\n",
    "def numericalize_word(word):\n",
    "    return [vocab[token] for token in tokenize_word(word)]\n",
    "\n",
    "def pad_sequence(sequence,max_length):\n",
    "    return sequence[:max_length] + [2] * (max_length - len(sequence))"
   ]
  },
  {
   "cell_type": "code",
   "execution_count": 12,
   "id": "fd58f721-b0a3-468c-ba6b-94073e55f494",
   "metadata": {},
   "outputs": [],
   "source": [
    "build_vocab(telugu_words)"
   ]
  },
  {
   "cell_type": "code",
   "execution_count": 14,
   "id": "2fa46d37-c730-4b19-9ee1-c378eacae9fd",
   "metadata": {},
   "outputs": [
    {
     "data": {
      "text/plain": [
       "array([['vargaalavaarine', 'వర్గాలవారినే'],\n",
       "       ['vastadira', 'వస్తాదిరా'],\n",
       "       ['factamfos', 'ఫ్యాక్టమ్ఫోస్'],\n",
       "       ...,\n",
       "       ['venakkiteesukoovaalane', 'వెనక్కితీసుకోవాలనే'],\n",
       "       ['roopaantaraalu', 'రూపాంతరాలు'],\n",
       "       ['chendindindi', 'చెందిందింది']], dtype=object)"
      ]
     },
     "execution_count": 14,
     "metadata": {},
     "output_type": "execute_result"
    }
   ],
   "source": [
    "df.to_numpy()"
   ]
  },
  {
   "cell_type": "code",
   "execution_count": 15,
   "id": "b8d39e84-a7e5-4344-af5d-ed91b8c5d2ac",
   "metadata": {},
   "outputs": [],
   "source": [
    "class WordDataset(Dataset):\n",
    "    def __init__(self, data):\n",
    "        self.data = data\n",
    "\n",
    "    def __len__(self):\n",
    "        return len(self.data)\n",
    "\n",
    "    def __getitem__(self, idx):\n",
    "        input_word, output_word = self.data[idx]\n",
    "        input_sequence = numericalize_word(input_word)\n",
    "        output_sequence = numericalize_word(output_word)\n",
    "        input_sequence = pad_sequence(input_sequence)\n",
    "        output_sequence = pad_sequence(output_sequence)\n",
    "        return torch.tensor(input_sequence), torch.tensor(output_sequence)\n",
    "\n",
    "# Step 6: Data Loading\n",
    "batch_size = 32\n",
    "\n",
    "train_dataset = WordDataset(df.to_numpy())\n",
    "train_loader = DataLoader(train_dataset, batch_size=batch_size, shuffle=True)\n"
   ]
  },
  {
   "cell_type": "code",
   "execution_count": 26,
   "id": "f3698224-b989-4dfd-99a0-0007c176a5e7",
   "metadata": {},
   "outputs": [],
   "source": []
  },
  {
   "cell_type": "code",
   "execution_count": 27,
   "id": "1e6c0c87-21d9-4609-9739-9df28e7844bb",
   "metadata": {},
   "outputs": [],
   "source": []
  },
  {
   "cell_type": "code",
   "execution_count": null,
   "id": "19bc8b4b-40a5-41cc-9e3a-e4f081c427be",
   "metadata": {},
   "outputs": [],
   "source": [
    "device = torch.device(\"mps\")"
   ]
  }
 ],
 "metadata": {
  "kernelspec": {
   "display_name": "Python 3 (ipykernel)",
   "language": "python",
   "name": "python3"
  },
  "language_info": {
   "codemirror_mode": {
    "name": "ipython",
    "version": 3
   },
   "file_extension": ".py",
   "mimetype": "text/x-python",
   "name": "python",
   "nbconvert_exporter": "python",
   "pygments_lexer": "ipython3",
   "version": "3.8.18"
  }
 },
 "nbformat": 4,
 "nbformat_minor": 5
}
